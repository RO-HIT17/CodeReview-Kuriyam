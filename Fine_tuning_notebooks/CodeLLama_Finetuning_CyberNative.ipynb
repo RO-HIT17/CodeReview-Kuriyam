{
  "cells": [
    {
      "cell_type": "markdown",
      "metadata": {
        "colab_type": "text",
        "id": "view-in-github"
      },
      "source": [
        "<a href=\"https://colab.research.google.com/github/RO-HIT17/CodeReview-Kuriyam/blob/main/CodeLLama_Finetuning_CyberNative.ipynb\" target=\"_parent\"><img src=\"https://colab.research.google.com/assets/colab-badge.svg\" alt=\"Open In Colab\"/></a>"
      ]
    },
    {
      "cell_type": "code",
      "execution_count": null,
      "metadata": {
        "id": "hGMgKE9_C-d1"
      },
      "outputs": [],
      "source": [
        "%%capture\n",
        "import os\n",
        "if \"COLAB_\" not in \"\".join(os.environ.keys()):\n",
        "    !pip install unsloth\n",
        "else:\n",
        "  !pip install --no-deps bitsandbytes accelerate xformers==0.0.29.post3 peft trl==0.15.2 triton cut_cross_entropy unsloth_zoo\n",
        "  !pip install sentencepiece protobuf huggingface_hub hf_transfer\n",
        "  !pip install transformers==4.51.3\n",
        "  !pip install --no-deps unsloth"
      ]
    },
    {
      "cell_type": "code",
      "execution_count": null,
      "metadata": {
        "id": "OdewTKOhEvrk"
      },
      "outputs": [],
      "source": [
        "from unsloth import FastLanguageModel\n",
        "import torch\n",
        "max_seq_length = 2048\n",
        "dtype = None\n",
        "load_in_4bit = True\n",
        "\n",
        "\n",
        "fourbit_models = [\n",
        "    \"unsloth/mistral-7b-v0.3-bnb-4bit\",\n",
        "    \"unsloth/mistral-7b-instruct-v0.3-bnb-4bit\",\n",
        "    \"unsloth/llama-3-8b-bnb-4bit\",\n",
        "    \"unsloth/llama-3-8b-Instruct-bnb-4bit\",\n",
        "    \"unsloth/llama-3-70b-bnb-4bit\",\n",
        "    \"unsloth/Phi-3-mini-4k-instruct\",\n",
        "    \"unsloth/Phi-3-medium-4k-instruct\",\n",
        "    \"unsloth/mistral-7b-bnb-4bit\",\n",
        "    \"unsloth/gemma-7b-bnb-4bit\",\n",
        "]\n",
        "\n",
        "model, tokenizer = FastLanguageModel.from_pretrained(\n",
        "    model_name = \"unsloth/codellama-7b-bnb-4bit\",\n",
        "    max_seq_length = max_seq_length,\n",
        "    dtype = dtype,\n",
        "    load_in_4bit = load_in_4bit,\n",
        "\n",
        ")"
      ]
    },
    {
      "cell_type": "code",
      "execution_count": null,
      "metadata": {
        "id": "Pk2ItnY6FAd_"
      },
      "outputs": [],
      "source": [
        "model = FastLanguageModel.get_peft_model(\n",
        "    model,\n",
        "    r = 16,\n",
        "    target_modules = [\"q_proj\", \"k_proj\", \"v_proj\", \"o_proj\",\n",
        "                      \"gate_proj\", \"up_proj\", \"down_proj\",],\n",
        "    lora_alpha = 16,\n",
        "    lora_dropout = 0,\n",
        "    bias = \"none\",\n",
        "\n",
        "    use_gradient_checkpointing = \"unsloth\",\n",
        "    random_state = 3407,\n",
        "    use_rslora = False,\n",
        "    loftq_config = None,\n",
        ")"
      ]
    },
    {
      "cell_type": "code",
      "execution_count": null,
      "metadata": {
        "id": "HPSJtt_1FJdg"
      },
      "outputs": [],
      "source": [
        "!pip install -U datasets\n",
        "from datasets import load_dataset\n",
        "dataset = load_dataset(\"CyberNative/Code_Vulnerability_Security_DPO\", split=\"train\")\n",
        "print(dataset.column_names)"
      ]
    },
    {
      "cell_type": "code",
      "execution_count": null,
      "metadata": {
        "id": "uF35vaFZPrVX"
      },
      "outputs": [],
      "source": [
        "from unsloth import to_sharegpt, standardize_sharegpt, apply_chat_template\n",
        "\n",
        "# Step 1: Merge columns into prompt/response format\n",
        "dataset = to_sharegpt(\n",
        "    dataset,\n",
        "    merged_prompt=(\n",
        "        \"{question}\\n\\n\"\n",
        "        \"The following response was rejected due to a security vulnerability:\\n\"\n",
        "        \"{rejected}\\n\\n\"\n",
        "        \"Reason: {vulnerability}\\n\\n\"\n",
        "        \"Please provide a better and secure alternative.\"\n",
        "    ),\n",
        "    output_column_name=\"chosen\",\n",
        "    conversation_extension=3\n",
        ")\n",
        "\n",
        "# Step 2: Convert to 'INPUT' and 'OUTPUT' columns\n",
        "dataset = standardize_sharegpt(dataset)\n",
        "\n",
        "# Step 3: Filter out invalid rows\n",
        "\n",
        "# ✅ Step 4: Use properly formatted chat_template\n",
        "chat_template = \"\"\"USER:\n",
        "{INPUT}\n",
        "\n",
        "ASSISTANT:\n",
        "{OUTPUT}\n",
        "\n",
        "USER:\n",
        "{INPUT}\n",
        "\n",
        "ASSISTANT:\n",
        "{OUTPUT}\n",
        "\n",
        "\"\"\"\n",
        "\n",
        "# Step 5: Apply the chat template\n",
        "dataset = apply_chat_template(\n",
        "    dataset,\n",
        "    tokenizer=tokenizer,\n",
        "    chat_template=chat_template,\n",
        "    default_system_message=\"You are a helpful assistant that fixes vulnerable code.\"\n",
        ")\n"
      ]
    },
    {
      "cell_type": "code",
      "execution_count": null,
      "metadata": {
        "id": "n9Vs6GMFPyj9"
      },
      "outputs": [],
      "source": [
        "from trl import SFTTrainer\n",
        "from transformers import TrainingArguments\n",
        "from unsloth import is_bfloat16_supported\n",
        "\n",
        "trainer = SFTTrainer(\n",
        "    model = model,\n",
        "    tokenizer = tokenizer,\n",
        "    train_dataset = dataset,\n",
        "    dataset_text_field = \"text\",\n",
        "    max_seq_length = max_seq_length,\n",
        "    dataset_num_proc = 2,\n",
        "    packing = False,\n",
        "    args = TrainingArguments(\n",
        "        per_device_train_batch_size = 2,\n",
        "        gradient_accumulation_steps = 4,\n",
        "        warmup_steps = 5,\n",
        "        max_steps = 60,\n",
        "\n",
        "        learning_rate = 2e-4,\n",
        "        fp16 = not is_bfloat16_supported(),\n",
        "        bf16 = is_bfloat16_supported(),\n",
        "        logging_steps = 1,\n",
        "        optim = \"adamw_8bit\",\n",
        "        weight_decay = 0.01,\n",
        "        lr_scheduler_type = \"linear\",\n",
        "        seed = 3407,\n",
        "        output_dir = \"outputs\",\n",
        "        report_to = \"none\",\n",
        "    ),\n",
        ")"
      ]
    },
    {
      "cell_type": "code",
      "execution_count": null,
      "metadata": {
        "id": "6wNI14GZP2Yo"
      },
      "outputs": [],
      "source": [
        "trainer_stats = trainer.train()"
      ]
    },
    {
      "cell_type": "code",
      "execution_count": null,
      "metadata": {
        "id": "5e7lKcTLP4Z0"
      },
      "outputs": [],
      "source": [
        "from unsloth import FastLanguageModel\n",
        "from transformers import TextStreamer\n",
        "\n",
        "FastLanguageModel.for_inference(model)\n",
        "\n",
        "messages = [\n",
        "    {\n",
        "        \"role\": \"user\",\n",
        "        \"content\": (\n",
        "            \"Write a function to hash a password.\\n\\n\"\n",
        "            \"The following response was rejected due to a security vulnerability:\\n\"\n",
        "            \"```python\\n\"\n",
        "            \"def hash_password(password):\\n\"\n",
        "            \"    return hashlib.md5(password.encode()).hexdigest()\\n\"\n",
        "            \"```\\n\\n\"\n",
        "            \"Reason: Use of MD5 which is cryptographically broken and not recommended for password hashing.\\n\\n\"\n",
        "            \"Please provide a better and secure alternative.\"\n",
        "        )\n",
        "    }\n",
        "]\n",
        "\n",
        "input_ids = tokenizer.apply_chat_template(\n",
        "    messages,\n",
        "    add_generation_prompt=True,\n",
        "    return_tensors=\"pt\",\n",
        ").to(\"cuda\")\n",
        "\n",
        "text_streamer = TextStreamer(tokenizer, skip_prompt=True)\n",
        "\n",
        "_ = model.generate(\n",
        "    input_ids,\n",
        "    streamer=text_streamer,\n",
        "    max_new_tokens=256,\n",
        "    pad_token_id=tokenizer.eos_token_id,\n",
        ")\n"
      ]
    },
    {
      "cell_type": "code",
      "execution_count": null,
      "metadata": {
        "id": "YffKAdLGQxZ0"
      },
      "outputs": [],
      "source": [
        "model.save_pretrained(\"lora_model\")\n",
        "tokenizer.save_pretrained(\"lora_model\")"
      ]
    },
    {
      "cell_type": "code",
      "execution_count": null,
      "metadata": {
        "id": "gwWrZkC9RLVh"
      },
      "outputs": [],
      "source": [
        "!curl -fsSL https://ollama.com/install.sh | sh"
      ]
    },
    {
      "cell_type": "code",
      "execution_count": null,
      "metadata": {
        "id": "LbUGKfQKQzQU"
      },
      "outputs": [],
      "source": [
        "if True: model.save_pretrained_gguf(\"model\", tokenizer,)"
      ]
    },
    {
      "cell_type": "code",
      "execution_count": null,
      "metadata": {
        "id": "pPPLPoM1RHgQ"
      },
      "outputs": [],
      "source": [
        "import subprocess\n",
        "\n",
        "subprocess.Popen([\"ollama\", \"serve\"])\n",
        "import time\n",
        "\n",
        "time.sleep(3)"
      ]
    },
    {
      "cell_type": "code",
      "execution_count": null,
      "metadata": {
        "id": "hjVVC_HcROkw"
      },
      "outputs": [],
      "source": [
        "print(tokenizer._ollama_modelfile)\n",
        "!ollama create unsloth_model -f ./model/Modelfile"
      ]
    },
    {
      "cell_type": "code",
      "execution_count": null,
      "metadata": {
        "id": "ZimXGMe7RRzm"
      },
      "outputs": [],
      "source": [
        "from google.colab import files\n",
        "\n",
        "\n",
        "!zip -r lora_model.zip lora_model\n",
        "files.download(\"lora_model.zip\")"
      ]
    }
  ],
  "metadata": {
    "colab": {
      "authorship_tag": "ABX9TyNqXRh0J2vLfiUNuYh6F7A9",
      "include_colab_link": true,
      "provenance": []
    },
    "kernelspec": {
      "display_name": "Python 3",
      "name": "python3"
    },
    "language_info": {
      "name": "python"
    }
  },
  "nbformat": 4,
  "nbformat_minor": 0
}
