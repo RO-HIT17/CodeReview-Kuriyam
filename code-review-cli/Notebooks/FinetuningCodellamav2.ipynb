{
  "nbformat": 4,
  "nbformat_minor": 0,
  "metadata": {
    "colab": {
      "provenance": [],
      "gpuType": "T4"
    },
    "kernelspec": {
      "name": "python3",
      "display_name": "Python 3"
    },
    "language_info": {
      "name": "python"
    },
    "accelerator": "GPU"
  },
  "cells": [
    {
      "cell_type": "code",
      "execution_count": 49,
      "metadata": {
        "id": "RQNhWb4yD8oh"
      },
      "outputs": [],
      "source": [
        "%%capture\n",
        "import os\n",
        "if \"COLAB_\" not in \"\".join(os.environ.keys()):\n",
        "    !pip install unsloth\n",
        "else:\n",
        "    # Do this only in Colab notebooks! Otherwise use pip install unsloth\n",
        "    !pip install --no-deps bitsandbytes accelerate xformers==0.0.29.post3 peft trl==0.15.2 triton cut_cross_entropy unsloth_zoo\n",
        "    !pip install sentencepiece protobuf \"datasets>=3.4.1\" huggingface_hub hf_transfer\n",
        "    !pip install transformers==4.51.3\n",
        "    !pip install --no-deps unsloth"
      ]
    },
    {
      "cell_type": "code",
      "source": [
        "from unsloth import FastLanguageModel\n",
        "import torch\n",
        "max_seq_length = 2048 # Choose any! We auto support RoPE Scaling internally!\n",
        "dtype = None # None for auto detection. Float16 for Tesla T4, V100, Bfloat16 for Ampere+\n",
        "load_in_4bit = True # Use 4bit quantization to reduce memory usage. Can be False.\n",
        "\n",
        "# 4bit pre quantized models we support for 4x faster downloading + no OOMs.\n",
        "fourbit_models = [\n",
        "    \"unsloth/mistral-7b-v0.3-bnb-4bit\",      # New Mistral v3 2x faster!\n",
        "    \"unsloth/mistral-7b-instruct-v0.3-bnb-4bit\",\n",
        "    \"unsloth/llama-3-8b-bnb-4bit\",           # Llama-3 15 trillion tokens model 2x faster!\n",
        "    \"unsloth/llama-3-8b-Instruct-bnb-4bit\",\n",
        "    \"unsloth/llama-3-70b-bnb-4bit\",\n",
        "    \"unsloth/Phi-3-mini-4k-instruct\",        # Phi-3 2x faster!\n",
        "    \"unsloth/Phi-3-medium-4k-instruct\",\n",
        "    \"unsloth/mistral-7b-bnb-4bit\",\n",
        "    \"unsloth/gemma-7b-bnb-4bit\",             # Gemma 2.2x faster!\n",
        "] # More models at https://huggingface.co/unsloth\n",
        "\n",
        "model, tokenizer = FastLanguageModel.from_pretrained(\n",
        "    model_name = \"unsloth/codellama-7b-bnb-4bit\",\n",
        "    max_seq_length = max_seq_length,\n",
        "    dtype = dtype,\n",
        "    load_in_4bit = load_in_4bit,\n",
        "    # token = \"hf_...\", # use one if using gated models like meta-llama/Llama-2-7b-hf\n",
        ")"
      ],
      "metadata": {
        "colab": {
          "base_uri": "https://localhost:8080/"
        },
        "id": "NqP9PgWGKEyp",
        "outputId": "4998cbf6-e8a1-4b0a-a43f-cfa1194c29bd"
      },
      "execution_count": 50,
      "outputs": [
        {
          "output_type": "stream",
          "name": "stdout",
          "text": [
            "==((====))==  Unsloth 2025.5.9: Fast Llama patching. Transformers: 4.51.3.\n",
            "   \\\\   /|    Tesla T4. Num GPUs = 1. Max memory: 14.741 GB. Platform: Linux.\n",
            "O^O/ \\_/ \\    Torch: 2.6.0+cu124. CUDA: 7.5. CUDA Toolkit: 12.4. Triton: 3.2.0\n",
            "\\        /    Bfloat16 = FALSE. FA [Xformers = 0.0.29.post3. FA2 = False]\n",
            " \"-____-\"     Free license: http://github.com/unslothai/unsloth\n",
            "Unsloth: Fast downloading is enabled - ignore downloading bars which are red colored!\n"
          ]
        }
      ]
    },
    {
      "cell_type": "code",
      "source": [
        "model = FastLanguageModel.get_peft_model(\n",
        "    model,\n",
        "    r = 16, # Choose any number > 0 ! Suggested 8, 16, 32, 64, 128\n",
        "    target_modules = [\"q_proj\", \"k_proj\", \"v_proj\", \"o_proj\",\n",
        "                      \"gate_proj\", \"up_proj\", \"down_proj\",],\n",
        "    lora_alpha = 16,\n",
        "    lora_dropout = 0, # Supports any, but = 0 is optimized\n",
        "    bias = \"none\",    # Supports any, but = \"none\" is optimized\n",
        "    # [NEW] \"unsloth\" uses 30% less VRAM, fits 2x larger batch sizes!\n",
        "    use_gradient_checkpointing = \"unsloth\", # True or \"unsloth\" for very long context\n",
        "    random_state = 3407,\n",
        "    use_rslora = False,  # We support rank stabilized LoRA\n",
        "    loftq_config = None, # And LoftQ\n",
        ")"
      ],
      "metadata": {
        "id": "nE4ueVE7YcrF"
      },
      "execution_count": 51,
      "outputs": []
    },
    {
      "cell_type": "code",
      "source": [
        "from datasets import load_dataset\n",
        "\n",
        "dataset = load_dataset(\"HuggingFaceH4/CodeAlpaca_20K\", split=\"train\")\n",
        "print(dataset.column_names)"
      ],
      "metadata": {
        "colab": {
          "base_uri": "https://localhost:8080/"
        },
        "id": "_gjX448zMc9N",
        "outputId": "bc3e2a0f-426f-4fc4-f2ff-663195458add"
      },
      "execution_count": 52,
      "outputs": [
        {
          "output_type": "stream",
          "name": "stdout",
          "text": [
            "['prompt', 'completion']\n"
          ]
        }
      ]
    },
    {
      "cell_type": "code",
      "source": [
        "from unsloth import to_sharegpt\n",
        "\n",
        "dataset = to_sharegpt(\n",
        "    dataset,\n",
        "    merged_prompt=\"{prompt}\",\n",
        "    output_column_name=\"completion\",\n",
        "    conversation_extension=3,  # Select more to handle longer conversations\n",
        ")"
      ],
      "metadata": {
        "id": "rltcR1TTQdiH"
      },
      "execution_count": 53,
      "outputs": []
    },
    {
      "cell_type": "code",
      "source": [
        "from unsloth import standardize_sharegpt\n",
        "\n",
        "dataset = standardize_sharegpt(dataset)"
      ],
      "metadata": {
        "id": "NXFoOfyERCZm"
      },
      "execution_count": 54,
      "outputs": []
    },
    {
      "cell_type": "code",
      "source": [
        "\n",
        "chat_template = \"\"\"Below are some instructions that describe some tasks. Write responses that appropriately complete each request.\n",
        "\n",
        "### Instruction:\n",
        "{INPUT}\n",
        "\n",
        "### Response:\n",
        "{OUTPUT}\"\"\"\n",
        "\n",
        "\n",
        "from unsloth import apply_chat_template\n",
        "\n",
        "dataset = apply_chat_template(\n",
        "    dataset,\n",
        "    tokenizer=tokenizer,\n",
        "    chat_template=chat_template,\n",
        "    # default_system_message = \"You are a helpful assistant\", << [OPTIONAL]\n",
        ")"
      ],
      "metadata": {
        "colab": {
          "base_uri": "https://localhost:8080/"
        },
        "id": "n4YYQ23tP3Cr",
        "outputId": "6999dfa0-e7e1-4f9c-f816-74c474aa7c30"
      },
      "execution_count": 55,
      "outputs": [
        {
          "output_type": "stream",
          "name": "stderr",
          "text": [
            "Unsloth: We automatically added an EOS token to stop endless generations.\n"
          ]
        }
      ]
    },
    {
      "cell_type": "code",
      "source": [
        "for i in range(3):\n",
        "    print(f\"\\n--- Sample {i+1} ---\")\n",
        "    print(dataset[i])"
      ],
      "metadata": {
        "colab": {
          "base_uri": "https://localhost:8080/"
        },
        "id": "Pwar6xI8P3r8",
        "outputId": "84a44679-9e38-4678-c61f-ee2793aa80ed"
      },
      "execution_count": 56,
      "outputs": [
        {
          "output_type": "stream",
          "name": "stdout",
          "text": [
            "\n",
            "--- Sample 1 ---\n",
            "{'conversations': [{'content': \"('Create a Java class which sorts the given array of numbers.\\\\n[9, 2, 4, 3, 6, 1]',)\", 'role': 'user'}, {'content': 'class ArraySort { \\n  \\n    void sort(int arr[]) { \\n        int n = arr.length; \\n  \\n        // One by one move boundary of unsorted subarray \\n        for (int i = 0; i < n-1; i++) { \\n            \\n            // Find the minimum element in unsorted array \\n            int min_index = i; \\n            for (int j = i+1; j < n; j++) \\n                if (arr[j] < arr[min_index]) \\n                    min_index = j; \\n  \\n            // Swap the found minimum element with the first element \\n            int temp = arr[min_index]; \\n            arr[min_index] = arr[i]; \\n            arr[i] = temp; \\n        } \\n    } \\n  \\n    // Prints the array \\n    void printArray(int arr[]) { \\n        int n = arr.length; \\n        for (int i=0; i<n; ++i) \\n            System.out.print(arr[i] + \" \"); \\n        System.out.println(); \\n    } \\n  \\n    // Driver code to test above \\n    public static void main(String args[]) \\n    { \\n        ArraySort ob = new ArraySort(); \\n        int arr[] = {9, 2, 4, 3, 6, 1}; \\n        ob.sort(arr); \\n        System.out.println(\"Sorted array\"); \\n        ob.printArray(arr); \\n    } \\n}', 'role': 'assistant'}, {'content': \"('Explain what is the purpose of the try-except block\\\\n',)\", 'role': 'user'}, {'content': 'The purpose of the try-except block is to handle exceptions that may be raised while a program is executing, so as to avoid crashing of the program.', 'role': 'assistant'}, {'content': \"('Write a CSS page to center align a given paragraph element.\\\\n',)\", 'role': 'user'}, {'content': 'p {\\n  text-align: center;\\n}', 'role': 'assistant'}], 'text': '<s>Below are some instructions that describe some tasks. Write responses that appropriately complete each request.\\n\\n### Instruction:\\n(\\'Create a Java class which sorts the given array of numbers.\\\\n[9, 2, 4, 3, 6, 1]\\',)\\n\\n### Response:\\nclass ArraySort { \\n  \\n    void sort(int arr[]) { \\n        int n = arr.length; \\n  \\n        // One by one move boundary of unsorted subarray \\n        for (int i = 0; i < n-1; i++) { \\n            \\n            // Find the minimum element in unsorted array \\n            int min_index = i; \\n            for (int j = i+1; j < n; j++) \\n                if (arr[j] < arr[min_index]) \\n                    min_index = j; \\n  \\n            // Swap the found minimum element with the first element \\n            int temp = arr[min_index]; \\n            arr[min_index] = arr[i]; \\n            arr[i] = temp; \\n        } \\n    } \\n  \\n    // Prints the array \\n    void printArray(int arr[]) { \\n        int n = arr.length; \\n        for (int i=0; i<n; ++i) \\n            System.out.print(arr[i] + \" \"); \\n        System.out.println(); \\n    } \\n  \\n    // Driver code to test above \\n    public static void main(String args[]) \\n    { \\n        ArraySort ob = new ArraySort(); \\n        int arr[] = {9, 2, 4, 3, 6, 1}; \\n        ob.sort(arr); \\n        System.out.println(\"Sorted array\"); \\n        ob.printArray(arr); \\n    } \\n}</s>\\n\\n### Instruction:\\n(\\'Explain what is the purpose of the try-except block\\\\n\\',)\\n\\n### Response:\\nThe purpose of the try-except block is to handle exceptions that may be raised while a program is executing, so as to avoid crashing of the program.</s>\\n\\n### Instruction:\\n(\\'Write a CSS page to center align a given paragraph element.\\\\n\\',)\\n\\n### Response:\\np {\\n  text-align: center;\\n}</s>'}\n",
            "\n",
            "--- Sample 2 ---\n",
            "{'conversations': [{'content': \"('Create an algorithm in JavaScript to find the closest pair of points from a given set of points.\\\\nlet points = [[2, 0], [4, 4], [-2, 2], [-3, -4], [4, -2]];',)\", 'role': 'user'}, {'content': '// algorithm to find closest pair of points \\n// uses divide and conquer approach \\nconst closestPair = (points) => { \\n  // base case: two or fewer points\\n  if (points.length <= 2) {\\n    return points;\\n  }\\n\\n  // divide\\n  const middle = Math.floor(points.length / 2);\\n  const left = points.slice(0, middle);\\n  const right = points.slice(middle);\\n  \\n  // conquer\\n  const leftPoints = closestPair(left);\\n  const rightPoints = closestPair(right);\\n\\n  const closestPair = getClosestPair(leftPoints, rightPoints);\\n\\n  // combine\\n  return closestPair;\\n}\\n \\n// get closest pair between two sets of points\\nconst getClosestPair = (leftPoints, rightPoints) => {\\n  // calculating the minimum distance\\n  let minDist = getDistance(leftPoints[0], rightPoints[0]);\\n  let closestPair = [leftPoints[0], rightPoints[0]];\\n  \\n  for (let i = 0; i < leftPoints.length; i++) {\\n    for (let j = 0; j < rightPoints.length; j++) {\\n      let dist = getDistance(leftPoints[i], rightPoints[j]);\\n      if (dist < minDist) {\\n        minDist = dist;\\n        closestPair = [leftPoints[i], rightPoints[j]];\\n      }\\n    }\\n  }\\n \\n  // return the minimum distance and its pair\\n  return closestPair;\\n}\\n \\n// calculate the Euclidean distance between two points\\nconst getDistance = (point1, point2) => {\\n  let xDist = Math.abs(point2[0] - point1[0]);\\n  let yDist = Math.abs(point2[1] - point1[1]);\\n \\n  return Math.sqrt(Math.pow(xDist, 2) + Math.pow(yDist, 2));\\n}\\n\\n// testing our function \\nlet points = [[2, 0], [4, 4], [-2, 2], [-3, -4], [4, -2]];\\nlet closestPoints = closestPair(points);\\nconsole.log(closestPoints);\\n//Output: [[-2, 2], [2, 0]]', 'role': 'assistant'}, {'content': \"('Use a loop to print out each element of the list.\\\\nlist = [1, 2, 3, 4]',)\", 'role': 'user'}, {'content': 'for element in list:\\n    print(element)', 'role': 'assistant'}, {'content': \"('What is a bot?\\\\n',)\", 'role': 'user'}, {'content': 'A bot is a software application that automates simple tasks such as sending messages, responding to questions, or performing other tasks. It is often used to create interactive experiences with users, such as chatbots or virtual assistants. It can also be used to automate online activities such as web browsing and data entry.', 'role': 'assistant'}], 'text': \"<s>Below are some instructions that describe some tasks. Write responses that appropriately complete each request.\\n\\n### Instruction:\\n('Create an algorithm in JavaScript to find the closest pair of points from a given set of points.\\\\nlet points = [[2, 0], [4, 4], [-2, 2], [-3, -4], [4, -2]];',)\\n\\n### Response:\\n// algorithm to find closest pair of points \\n// uses divide and conquer approach \\nconst closestPair = (points) => { \\n  // base case: two or fewer points\\n  if (points.length <= 2) {\\n    return points;\\n  }\\n\\n  // divide\\n  const middle = Math.floor(points.length / 2);\\n  const left = points.slice(0, middle);\\n  const right = points.slice(middle);\\n  \\n  // conquer\\n  const leftPoints = closestPair(left);\\n  const rightPoints = closestPair(right);\\n\\n  const closestPair = getClosestPair(leftPoints, rightPoints);\\n\\n  // combine\\n  return closestPair;\\n}\\n \\n// get closest pair between two sets of points\\nconst getClosestPair = (leftPoints, rightPoints) => {\\n  // calculating the minimum distance\\n  let minDist = getDistance(leftPoints[0], rightPoints[0]);\\n  let closestPair = [leftPoints[0], rightPoints[0]];\\n  \\n  for (let i = 0; i < leftPoints.length; i++) {\\n    for (let j = 0; j < rightPoints.length; j++) {\\n      let dist = getDistance(leftPoints[i], rightPoints[j]);\\n      if (dist < minDist) {\\n        minDist = dist;\\n        closestPair = [leftPoints[i], rightPoints[j]];\\n      }\\n    }\\n  }\\n \\n  // return the minimum distance and its pair\\n  return closestPair;\\n}\\n \\n// calculate the Euclidean distance between two points\\nconst getDistance = (point1, point2) => {\\n  let xDist = Math.abs(point2[0] - point1[0]);\\n  let yDist = Math.abs(point2[1] - point1[1]);\\n \\n  return Math.sqrt(Math.pow(xDist, 2) + Math.pow(yDist, 2));\\n}\\n\\n// testing our function \\nlet points = [[2, 0], [4, 4], [-2, 2], [-3, -4], [4, -2]];\\nlet closestPoints = closestPair(points);\\nconsole.log(closestPoints);\\n//Output: [[-2, 2], [2, 0]]</s>\\n\\n### Instruction:\\n('Use a loop to print out each element of the list.\\\\nlist = [1, 2, 3, 4]',)\\n\\n### Response:\\nfor element in list:\\n    print(element)</s>\\n\\n### Instruction:\\n('What is a bot?\\\\n',)\\n\\n### Response:\\nA bot is a software application that automates simple tasks such as sending messages, responding to questions, or performing other tasks. It is often used to create interactive experiences with users, such as chatbots or virtual assistants. It can also be used to automate online activities such as web browsing and data entry.</s>\"}\n",
            "\n",
            "--- Sample 3 ---\n",
            "{'conversations': [{'content': \"('Change the following loop so that it prints out the numbers from 10 to 1 in descending order.\\\\nfor i in range(1, 11):\\\\n    print(i)',)\", 'role': 'user'}, {'content': 'for i in range(10, 0, -1):\\n    print(i)', 'role': 'assistant'}, {'content': '(\"Edit the given code to add a function that calculates the area of a circle given its radius.\\\\ndef circumference(r):\\\\n    \\'\\'\\'Calculates the circumference of a circle given its radius\\'\\'\\'\\\\n    return 2* PI * r\",)', 'role': 'user'}, {'content': \"def circumference(r):\\n    '''Calculates the circumference of a circle given its radius'''\\n    return 2* PI * r\\n\\ndef area(r):\\n    '''Calculates the area of a circle given its radius'''\\n    return PI * r * r\", 'role': 'assistant'}, {'content': '(\\'Parse a given XML string and print all the attributes present in the \\\\\\'employee\\\\\\' tag.\\\\n<employee name=\"John\" id=\"123\" position=\"Manager\" dept=\"Sales\" />\\',)', 'role': 'user'}, {'content': '# Using Python: \\n\\nimport xml.etree.ElementTree as ET\\n\\nxml_string = \"<employee name=\"John\" id=\"123\" position=\"Manager\" dept=\"Sales\" />\"\\n\\n# Parse the XML\\nroot = ET.fromstring(xml_string)\\n\\n# Iterate through the child nodes\\nfor child in root:\\n    # Print all the attributes\\n    for (name, value) in child.attrib.items():\\n         print(name + \": \" + value)\\n         \\n# Output: \\n# name: John\\n# id: 123\\n# position: Manager\\n# dept: Sales', 'role': 'assistant'}], 'text': '<s>Below are some instructions that describe some tasks. Write responses that appropriately complete each request.\\n\\n### Instruction:\\n(\\'Change the following loop so that it prints out the numbers from 10 to 1 in descending order.\\\\nfor i in range(1, 11):\\\\n    print(i)\\',)\\n\\n### Response:\\nfor i in range(10, 0, -1):\\n    print(i)</s>\\n\\n### Instruction:\\n(\"Edit the given code to add a function that calculates the area of a circle given its radius.\\\\ndef circumference(r):\\\\n    \\'\\'\\'Calculates the circumference of a circle given its radius\\'\\'\\'\\\\n    return 2* PI * r\",)\\n\\n### Response:\\ndef circumference(r):\\n    \\'\\'\\'Calculates the circumference of a circle given its radius\\'\\'\\'\\n    return 2* PI * r\\n\\ndef area(r):\\n    \\'\\'\\'Calculates the area of a circle given its radius\\'\\'\\'\\n    return PI * r * r</s>\\n\\n### Instruction:\\n(\\'Parse a given XML string and print all the attributes present in the \\\\\\'employee\\\\\\' tag.\\\\n<employee name=\"John\" id=\"123\" position=\"Manager\" dept=\"Sales\" />\\',)\\n\\n### Response:\\n# Using Python: \\n\\nimport xml.etree.ElementTree as ET\\n\\nxml_string = \"<employee name=\"John\" id=\"123\" position=\"Manager\" dept=\"Sales\" />\"\\n\\n# Parse the XML\\nroot = ET.fromstring(xml_string)\\n\\n# Iterate through the child nodes\\nfor child in root:\\n    # Print all the attributes\\n    for (name, value) in child.attrib.items():\\n         print(name + \": \" + value)\\n         \\n# Output: \\n# name: John\\n# id: 123\\n# position: Manager\\n# dept: Sales</s>'}\n"
          ]
        }
      ]
    },
    {
      "cell_type": "code",
      "source": [
        "from trl import SFTTrainer\n",
        "from transformers import TrainingArguments\n",
        "from unsloth import is_bfloat16_supported\n",
        "\n",
        "trainer = SFTTrainer(\n",
        "    model = model,\n",
        "    tokenizer = tokenizer,\n",
        "    train_dataset = dataset,\n",
        "    dataset_text_field = \"text\",\n",
        "    max_seq_length = max_seq_length,\n",
        "    dataset_num_proc = 2,\n",
        "    packing = False, # Can make training 5x faster for short sequences.\n",
        "    args = TrainingArguments(\n",
        "        per_device_train_batch_size = 2,\n",
        "        gradient_accumulation_steps = 4,\n",
        "        warmup_steps = 5,\n",
        "        max_steps = 60,\n",
        "        # num_train_epochs = 1, # For longer training runs!\n",
        "        learning_rate = 2e-4,\n",
        "        fp16 = not is_bfloat16_supported(),\n",
        "        bf16 = is_bfloat16_supported(),\n",
        "        logging_steps = 1,\n",
        "        optim = \"adamw_8bit\",\n",
        "        weight_decay = 0.01,\n",
        "        lr_scheduler_type = \"linear\",\n",
        "        seed = 3407,\n",
        "        output_dir = \"outputs\",\n",
        "        report_to = \"none\", # Use this for WandB etc\n",
        "    ),\n",
        ")"
      ],
      "metadata": {
        "id": "_Dmkkv98TD44"
      },
      "execution_count": 57,
      "outputs": []
    },
    {
      "cell_type": "code",
      "source": [
        "trainer.model.print_trainable_parameters()\n",
        "trainer.train()"
      ],
      "metadata": {
        "colab": {
          "base_uri": "https://localhost:8080/",
          "height": 1000
        },
        "id": "TrH5RmF-TIcC",
        "outputId": "eb55a5ae-ea42-44e2-c5a6-d81ed79eca0d"
      },
      "execution_count": 58,
      "outputs": [
        {
          "output_type": "stream",
          "name": "stdout",
          "text": [
            "trainable params: 39,976,960 || all params: 6,778,523,648 || trainable%: 0.5898\n"
          ]
        },
        {
          "output_type": "stream",
          "name": "stderr",
          "text": [
            "==((====))==  Unsloth - 2x faster free finetuning | Num GPUs used = 1\n",
            "   \\\\   /|    Num examples = 18,019 | Num Epochs = 1 | Total steps = 60\n",
            "O^O/ \\_/ \\    Batch size per device = 2 | Gradient accumulation steps = 4\n",
            "\\        /    Data Parallel GPUs = 1 | Total batch size (2 x 4 x 1) = 8\n",
            " \"-____-\"     Trainable parameters = 39,976,960/7,000,000,000 (0.57% trained)\n"
          ]
        },
        {
          "output_type": "display_data",
          "data": {
            "text/plain": [
              "<IPython.core.display.HTML object>"
            ],
            "text/html": [
              "\n",
              "    <div>\n",
              "      \n",
              "      <progress value='60' max='60' style='width:300px; height:20px; vertical-align: middle;'></progress>\n",
              "      [60/60 09:26, Epoch 0/1]\n",
              "    </div>\n",
              "    <table border=\"1\" class=\"dataframe\">\n",
              "  <thead>\n",
              " <tr style=\"text-align: left;\">\n",
              "      <th>Step</th>\n",
              "      <th>Training Loss</th>\n",
              "    </tr>\n",
              "  </thead>\n",
              "  <tbody>\n",
              "    <tr>\n",
              "      <td>1</td>\n",
              "      <td>1.480400</td>\n",
              "    </tr>\n",
              "    <tr>\n",
              "      <td>2</td>\n",
              "      <td>1.320300</td>\n",
              "    </tr>\n",
              "    <tr>\n",
              "      <td>3</td>\n",
              "      <td>1.632000</td>\n",
              "    </tr>\n",
              "    <tr>\n",
              "      <td>4</td>\n",
              "      <td>1.641700</td>\n",
              "    </tr>\n",
              "    <tr>\n",
              "      <td>5</td>\n",
              "      <td>1.602600</td>\n",
              "    </tr>\n",
              "    <tr>\n",
              "      <td>6</td>\n",
              "      <td>1.586500</td>\n",
              "    </tr>\n",
              "    <tr>\n",
              "      <td>7</td>\n",
              "      <td>1.317500</td>\n",
              "    </tr>\n",
              "    <tr>\n",
              "      <td>8</td>\n",
              "      <td>1.005400</td>\n",
              "    </tr>\n",
              "    <tr>\n",
              "      <td>9</td>\n",
              "      <td>1.112100</td>\n",
              "    </tr>\n",
              "    <tr>\n",
              "      <td>10</td>\n",
              "      <td>1.200000</td>\n",
              "    </tr>\n",
              "    <tr>\n",
              "      <td>11</td>\n",
              "      <td>1.054400</td>\n",
              "    </tr>\n",
              "    <tr>\n",
              "      <td>12</td>\n",
              "      <td>0.935200</td>\n",
              "    </tr>\n",
              "    <tr>\n",
              "      <td>13</td>\n",
              "      <td>0.846200</td>\n",
              "    </tr>\n",
              "    <tr>\n",
              "      <td>14</td>\n",
              "      <td>0.921300</td>\n",
              "    </tr>\n",
              "    <tr>\n",
              "      <td>15</td>\n",
              "      <td>0.929800</td>\n",
              "    </tr>\n",
              "    <tr>\n",
              "      <td>16</td>\n",
              "      <td>0.727000</td>\n",
              "    </tr>\n",
              "    <tr>\n",
              "      <td>17</td>\n",
              "      <td>0.862300</td>\n",
              "    </tr>\n",
              "    <tr>\n",
              "      <td>18</td>\n",
              "      <td>0.734000</td>\n",
              "    </tr>\n",
              "    <tr>\n",
              "      <td>19</td>\n",
              "      <td>0.696900</td>\n",
              "    </tr>\n",
              "    <tr>\n",
              "      <td>20</td>\n",
              "      <td>0.666300</td>\n",
              "    </tr>\n",
              "    <tr>\n",
              "      <td>21</td>\n",
              "      <td>0.716200</td>\n",
              "    </tr>\n",
              "    <tr>\n",
              "      <td>22</td>\n",
              "      <td>0.775300</td>\n",
              "    </tr>\n",
              "    <tr>\n",
              "      <td>23</td>\n",
              "      <td>0.879100</td>\n",
              "    </tr>\n",
              "    <tr>\n",
              "      <td>24</td>\n",
              "      <td>0.645100</td>\n",
              "    </tr>\n",
              "    <tr>\n",
              "      <td>25</td>\n",
              "      <td>0.628800</td>\n",
              "    </tr>\n",
              "    <tr>\n",
              "      <td>26</td>\n",
              "      <td>0.626500</td>\n",
              "    </tr>\n",
              "    <tr>\n",
              "      <td>27</td>\n",
              "      <td>0.742200</td>\n",
              "    </tr>\n",
              "    <tr>\n",
              "      <td>28</td>\n",
              "      <td>0.729300</td>\n",
              "    </tr>\n",
              "    <tr>\n",
              "      <td>29</td>\n",
              "      <td>0.653100</td>\n",
              "    </tr>\n",
              "    <tr>\n",
              "      <td>30</td>\n",
              "      <td>0.755200</td>\n",
              "    </tr>\n",
              "    <tr>\n",
              "      <td>31</td>\n",
              "      <td>0.728900</td>\n",
              "    </tr>\n",
              "    <tr>\n",
              "      <td>32</td>\n",
              "      <td>0.742400</td>\n",
              "    </tr>\n",
              "    <tr>\n",
              "      <td>33</td>\n",
              "      <td>0.703200</td>\n",
              "    </tr>\n",
              "    <tr>\n",
              "      <td>34</td>\n",
              "      <td>0.703900</td>\n",
              "    </tr>\n",
              "    <tr>\n",
              "      <td>35</td>\n",
              "      <td>0.583100</td>\n",
              "    </tr>\n",
              "    <tr>\n",
              "      <td>36</td>\n",
              "      <td>0.692600</td>\n",
              "    </tr>\n",
              "    <tr>\n",
              "      <td>37</td>\n",
              "      <td>0.592400</td>\n",
              "    </tr>\n",
              "    <tr>\n",
              "      <td>38</td>\n",
              "      <td>0.742700</td>\n",
              "    </tr>\n",
              "    <tr>\n",
              "      <td>39</td>\n",
              "      <td>0.630900</td>\n",
              "    </tr>\n",
              "    <tr>\n",
              "      <td>40</td>\n",
              "      <td>0.614200</td>\n",
              "    </tr>\n",
              "    <tr>\n",
              "      <td>41</td>\n",
              "      <td>0.631600</td>\n",
              "    </tr>\n",
              "    <tr>\n",
              "      <td>42</td>\n",
              "      <td>0.626900</td>\n",
              "    </tr>\n",
              "    <tr>\n",
              "      <td>43</td>\n",
              "      <td>0.626300</td>\n",
              "    </tr>\n",
              "    <tr>\n",
              "      <td>44</td>\n",
              "      <td>0.589800</td>\n",
              "    </tr>\n",
              "    <tr>\n",
              "      <td>45</td>\n",
              "      <td>0.756000</td>\n",
              "    </tr>\n",
              "    <tr>\n",
              "      <td>46</td>\n",
              "      <td>0.655500</td>\n",
              "    </tr>\n",
              "    <tr>\n",
              "      <td>47</td>\n",
              "      <td>0.630200</td>\n",
              "    </tr>\n",
              "    <tr>\n",
              "      <td>48</td>\n",
              "      <td>0.607500</td>\n",
              "    </tr>\n",
              "    <tr>\n",
              "      <td>49</td>\n",
              "      <td>0.574200</td>\n",
              "    </tr>\n",
              "    <tr>\n",
              "      <td>50</td>\n",
              "      <td>0.586800</td>\n",
              "    </tr>\n",
              "    <tr>\n",
              "      <td>51</td>\n",
              "      <td>0.532000</td>\n",
              "    </tr>\n",
              "    <tr>\n",
              "      <td>52</td>\n",
              "      <td>0.631800</td>\n",
              "    </tr>\n",
              "    <tr>\n",
              "      <td>53</td>\n",
              "      <td>0.588600</td>\n",
              "    </tr>\n",
              "    <tr>\n",
              "      <td>54</td>\n",
              "      <td>0.642400</td>\n",
              "    </tr>\n",
              "    <tr>\n",
              "      <td>55</td>\n",
              "      <td>0.620800</td>\n",
              "    </tr>\n",
              "    <tr>\n",
              "      <td>56</td>\n",
              "      <td>0.624100</td>\n",
              "    </tr>\n",
              "    <tr>\n",
              "      <td>57</td>\n",
              "      <td>0.574900</td>\n",
              "    </tr>\n",
              "    <tr>\n",
              "      <td>58</td>\n",
              "      <td>0.742800</td>\n",
              "    </tr>\n",
              "    <tr>\n",
              "      <td>59</td>\n",
              "      <td>0.640500</td>\n",
              "    </tr>\n",
              "    <tr>\n",
              "      <td>60</td>\n",
              "      <td>0.736100</td>\n",
              "    </tr>\n",
              "  </tbody>\n",
              "</table><p>"
            ]
          },
          "metadata": {}
        },
        {
          "output_type": "execute_result",
          "data": {
            "text/plain": [
              "TrainOutput(global_step=60, training_loss=0.8129348615805309, metrics={'train_runtime': 590.6771, 'train_samples_per_second': 0.813, 'train_steps_per_second': 0.102, 'total_flos': 8276952933040128.0, 'train_loss': 0.8129348615805309})"
            ]
          },
          "metadata": {},
          "execution_count": 58
        }
      ]
    },
    {
      "cell_type": "code",
      "source": [
        "# @title Show final memory and time stats\n",
        "used_memory = round(torch.cuda.max_memory_reserved() / 1024 / 1024 / 1024, 3)\n",
        "used_memory_for_lora = round(used_memory - start_gpu_memory, 3)\n",
        "used_percentage = round(used_memory / max_memory * 100, 3)\n",
        "lora_percentage = round(used_memory_for_lora / max_memory * 100, 3)\n",
        "print(f\"{trainer_stats.metrics['train_runtime']} seconds used for training.\")\n",
        "print(\n",
        "    f\"{round(trainer_stats.metrics['train_runtime']/60, 2)} minutes used for training.\"\n",
        ")\n",
        "print(f\"Peak reserved memory = {used_memory} GB.\")\n",
        "print(f\"Peak reserved memory for training = {used_memory_for_lora} GB.\")\n",
        "print(f\"Peak reserved memory % of max memory = {used_percentage} %.\")\n",
        "print(f\"Peak reserved memory for training % of max memory = {lora_percentage} %.\")"
      ],
      "metadata": {
        "id": "6uJsxaSSb65Y"
      },
      "execution_count": null,
      "outputs": []
    }
  ]
}